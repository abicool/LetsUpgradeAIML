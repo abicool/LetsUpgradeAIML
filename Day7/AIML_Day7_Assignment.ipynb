{
  "nbformat": 4,
  "nbformat_minor": 0,
  "metadata": {
    "colab": {
      "name": "AIML Day7 Assignment.ipynb",
      "provenance": [],
      "collapsed_sections": []
    },
    "kernelspec": {
      "name": "python3",
      "display_name": "Python 3"
    }
  },
  "cells": [
    {
      "cell_type": "markdown",
      "metadata": {
        "id": "b7isK156XqXy",
        "colab_type": "text"
      },
      "source": [
        "# Write a program to copy the contents of one file to another using a for loop. (Don’t use built-in copy function)"
      ]
    },
    {
      "cell_type": "code",
      "metadata": {
        "id": "rnL7LpMGXqfz",
        "colab_type": "code",
        "colab": {
          "base_uri": "https://localhost:8080/",
          "height": 121
        },
        "outputId": "97af4a84-3653-4804-a4f5-91560034c5bc"
      },
      "source": [
        "import os\n",
        "\n",
        "f1 = open('file1.txt','a+')\n",
        "print(\"file 1 opened\")\n",
        "f1.write(\"hi\")\n",
        "f1.write(\"how are you\")\n",
        "f1l = f1.readlines()\n",
        "for line in f1l:\n",
        "  print(line)\n",
        "print(\"file 1 written\")\n",
        "\n",
        "f2 = open('file2.txt','a+')\n",
        "for line in f1l:\n",
        "  f2.write(line)\n",
        "print(\"file 1 contents copied to file 2\")\n",
        "f2l = f2.readlines()\n",
        "for line in f2l:\n",
        "  print(line)\n",
        "print(\"file 2 read\")"
      ],
      "execution_count": 12,
      "outputs": [
        {
          "output_type": "stream",
          "text": [
            "file 1 opened\n",
            "hihow are you\n",
            "file 1 written\n",
            "file 1 contents copied to file 2\n",
            "hihow are you\n",
            "file 2 read\n"
          ],
          "name": "stdout"
        }
      ]
    },
    {
      "cell_type": "markdown",
      "metadata": {
        "id": "OOMMzgURusLw",
        "colab_type": "text"
      },
      "source": [
        "# Write a Python program to find maximum and minimum values in the dictionary. Do not use built-in min and max functions."
      ]
    },
    {
      "cell_type": "code",
      "metadata": {
        "id": "RHLL3rJasP2X",
        "colab_type": "code",
        "colab": {
          "base_uri": "https://localhost:8080/",
          "height": 52
        },
        "outputId": "99a6f616-ee2d-401f-e6ed-e9713f32efc2"
      },
      "source": [
        "newdict = {1:323,2:4654,3:48658,4:869,5:98}\n",
        "print(newdict)\n",
        "l1 = list(newdict.values())\n",
        "l3 = sorted(l1)\n",
        "\n",
        "print(\"min value is\",l3[0],\" and the max value is \",l3[-1])"
      ],
      "execution_count": 19,
      "outputs": [
        {
          "output_type": "stream",
          "text": [
            "{1: 323, 2: 4654, 3: 48658, 4: 869, 5: 98}\n",
            "min value is 98  and the max value is  48658\n"
          ],
          "name": "stdout"
        }
      ]
    },
    {
      "cell_type": "code",
      "metadata": {
        "id": "gba2TYCJxBhB",
        "colab_type": "code",
        "colab": {}
      },
      "source": [
        ""
      ],
      "execution_count": null,
      "outputs": []
    }
  ]
}