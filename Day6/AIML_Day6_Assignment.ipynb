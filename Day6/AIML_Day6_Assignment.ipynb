{
  "nbformat": 4,
  "nbformat_minor": 0,
  "metadata": {
    "colab": {
      "name": "AIML Day5 Assignment.ipynb",
      "provenance": [],
      "collapsed_sections": []
    },
    "kernelspec": {
      "name": "python3",
      "display_name": "Python 3"
    }
  },
  "cells": [
    {
      "cell_type": "markdown",
      "metadata": {
        "id": "mLyDIRuh3w5v",
        "colab_type": "text"
      },
      "source": [
        "Assuming that we have some email addresses in the \"username@companyname.com\" format, please\n",
        "write a program to print the company name of a given email address. Both user names and company\n",
        "names are composed of letters only.\n",
        "Input Format:\n",
        "The first line of the input contains an email address.\n",
        "Output Format:\n",
        "Print the company name in a single line.\n",
        "Example;\n",
        "Input:\n",
        "john@google.com\n",
        "Output:\n",
        "google."
      ]
    },
    {
      "cell_type": "code",
      "metadata": {
        "id": "9LkLMZ1h3x9k",
        "colab_type": "code",
        "colab": {
          "base_uri": "https://localhost:8080/",
          "height": 51
        },
        "outputId": "78e60153-7fcd-4aed-f3d1-42f708439672"
      },
      "source": [
        "mail = input(\"Enter the email Id:\")\n",
        "x = mail.find(\"@\")\n",
        "comp = mail[x+1:]\n",
        "y = comp.find(\".\")\n",
        "if y != -1:\n",
        "  c = comp[:y]\n",
        "else:\n",
        "  c=comp\n",
        "print(c)"
      ],
      "execution_count": 11,
      "outputs": [
        {
          "output_type": "stream",
          "text": [
            "Enter the email Id:abishek@gmail.com\n",
            "gmail\n"
          ],
          "name": "stdout"
        }
      ]
    },
    {
      "cell_type": "markdown",
      "metadata": {
        "id": "hQGsFpx47U8W",
        "colab_type": "text"
      },
      "source": [
        "Write a program that accepts a comma-separated sequence of words as input and prints the words in a\n",
        "comma-separated sequence after sorting them alphabetically.\n",
        "Input Format:\n",
        "The first line of input contains words separated by the comma.\n",
        "Output Format:\n",
        "Print the sorted words separated by the comma.\n",
        "Example:\n",
        "Input:\n",
        "without,hello,bag,world\n",
        "Output:\n",
        "bag,hello,without,world"
      ]
    },
    {
      "cell_type": "code",
      "metadata": {
        "id": "IGBLhqmI4ZZJ",
        "colab_type": "code",
        "colab": {
          "base_uri": "https://localhost:8080/",
          "height": 68
        },
        "outputId": "ae1f87b0-5548-4346-9d53-80a43c2f602e"
      },
      "source": [
        "l = input(\"Enter comma seperated values:\")\n",
        "str1=l.split(\",\")\n",
        "print(str1)\n",
        "str1.sort()\n",
        "print(str1)\n"
      ],
      "execution_count": 23,
      "outputs": [
        {
          "output_type": "stream",
          "text": [
            "Enter comma seperated values:gds,asd,ert\n",
            "['gds', 'asd', 'ert']\n",
            "['asd', 'ert', 'gds']\n"
          ],
          "name": "stdout"
        }
      ]
    },
    {
      "cell_type": "markdown",
      "metadata": {
        "id": "hSkVdjFv-tPu",
        "colab_type": "text"
      },
      "source": [
        "Create your own Jupyter Notebook for Sets. Reference link:\n",
        "https://www.w3schools.com/python/python_sets.asp"
      ]
    },
    {
      "cell_type": "code",
      "metadata": {
        "id": "4JLhjaZr78qD",
        "colab_type": "code",
        "colab": {
          "base_uri": "https://localhost:8080/",
          "height": 204
        },
        "outputId": "246525ab-4ef6-4a52-f630-4bacb9e123e5"
      },
      "source": [
        "thisset = {\"abi\", \"ajay\", \"arun\"}\n",
        "print(thisset)\n",
        "x=\"abi\"\n",
        "for x in thisset:\n",
        "  print(x)\n",
        "print(\"banana\" in thisset)\n",
        "thisset.add(\"mothi\")\n",
        "thisset.update([\"athira\", \"anna\", \"indu\"])\n",
        "print(len(thisset))\n",
        "#thisset.remove(\"moth\")\n",
        "thisset.discard(\"moth\")\n",
        "d = thisset.pop()\n",
        "print(d)\n",
        "thisset.clear()\n",
        "print(thisset)\n",
        "del thisset\n",
        "#print(thisset)\n",
        "set1 = {\"a\", \"b\" , \"c\"}\n",
        "set2 = {1, 2, 3}\n",
        "set3 = set1.union(set2)\n",
        "print(set3)\n",
        "set1.update(set2)\n",
        "print(set1)\n",
        "thisset = set((\"apple\", \"banana\", \"cherry\"))\n",
        "print(thisset)"
      ],
      "execution_count": 26,
      "outputs": [
        {
          "output_type": "stream",
          "text": [
            "{'arun', 'abi', 'ajay'}\n",
            "arun\n",
            "abi\n",
            "ajay\n",
            "False\n",
            "7\n",
            "anna\n",
            "set()\n",
            "{1, 2, 3, 'c', 'b', 'a'}\n",
            "{1, 2, 3, 'c', 'b', 'a'}\n",
            "{'cherry', 'apple', 'banana'}\n"
          ],
          "name": "stdout"
        }
      ]
    },
    {
      "cell_type": "markdown",
      "metadata": {
        "id": "TkMRzpCyDZD6",
        "colab_type": "text"
      },
      "source": [
        "Given a list of n-1 numbers ranging from 1 to n, your task is to find the missing number. There are no\n",
        "duplicates.\n",
        "Input Format:\n",
        "The first line contains n-1 numbers with each number separated by a space.\n",
        "Output Format:\n",
        "Print the missing number\n",
        "Example:\n",
        "Input:\n",
        "1 2 4 6 3 7 8\n",
        "Output:\n",
        "5\n",
        "Explanation:\n",
        "In the above list of numbers 5 is missing and hence 5 is the input"
      ]
    },
    {
      "cell_type": "code",
      "metadata": {
        "id": "qJ59l6d2A6XI",
        "colab_type": "code",
        "colab": {
          "base_uri": "https://localhost:8080/",
          "height": 85
        },
        "outputId": "44f1cdd9-4917-453a-b95c-09286f5c5cd5"
      },
      "source": [
        "n = input(\"Enter values seperated by space:\")\n",
        "s = n.split(\" \")\n",
        "#print(s)\n",
        "\n",
        "k = list(int(i) for i in s)\n",
        "j = max(k)\n",
        "#print(k)\n",
        "\n",
        "for i in range(1,j+1):\n",
        "  if i not in k:\n",
        "    print(i)"
      ],
      "execution_count": 41,
      "outputs": [
        {
          "output_type": "stream",
          "text": [
            "Enter values seperated by space:3 5 2 1 6\n",
            "['3', '5', '2', '1', '6']\n",
            "[3, 5, 2, 1, 6]\n",
            "4\n"
          ],
          "name": "stdout"
        }
      ]
    },
    {
      "cell_type": "markdown",
      "metadata": {
        "id": "lxT_uWZ0KFYS",
        "colab_type": "text"
      },
      "source": [
        "With a given list L, write a program to print this list L after removing all duplicate values with original order\n",
        "reserved.\n",
        "Example:\n",
        "If the input list is\n",
        "12 24 35 24 88 120 155 88 120 155\n",
        "Then the output should be\n",
        "12 24 35 88 120 155\n",
        "Explanation:\n",
        "Third, the seventh and ninth element of the list L has been removed because it was already present.\n",
        "Input Format:\n",
        "In one line take the elements of the list L with each element separated by a space.\n",
        "Output Format:\n",
        "Print the elements of the modified list in one line with each element separated by a space.\n",
        "Example:\n",
        "Input:\n",
        "12 24 35 24\n",
        "Output:\n",
        "12 24 35"
      ]
    },
    {
      "cell_type": "code",
      "metadata": {
        "id": "78t84CrkFicT",
        "colab_type": "code",
        "colab": {
          "base_uri": "https://localhost:8080/",
          "height": 51
        },
        "outputId": "f7ebd4c7-c63c-4859-b1cb-7662e3118e68"
      },
      "source": [
        "l = input(\"Enter a list of values:\")\n",
        "l = l.split(\" \")\n",
        "n = []\n",
        "for i in l:\n",
        "  if n == \"\":\n",
        "    n.append(i)\n",
        "  if i not in n:\n",
        "    n.append(i)\n",
        "  if i in n:\n",
        "    continue\n",
        "\n",
        "print(n)"
      ],
      "execution_count": 47,
      "outputs": [
        {
          "output_type": "stream",
          "text": [
            "Enter a list of values:12 24 35 24 88 120 155 88 120 155\n",
            "['12', '24', '35', '88', '120', '155']\n"
          ],
          "name": "stdout"
        }
      ]
    },
    {
      "cell_type": "code",
      "metadata": {
        "id": "fR9uOQEbL9v3",
        "colab_type": "code",
        "colab": {}
      },
      "source": [
        ""
      ],
      "execution_count": null,
      "outputs": []
    }
  ]
}