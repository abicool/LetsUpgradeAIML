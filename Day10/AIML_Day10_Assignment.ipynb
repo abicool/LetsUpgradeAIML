{
  "nbformat": 4,
  "nbformat_minor": 0,
  "metadata": {
    "colab": {
      "name": "AIML_Day10_Assignment.ipynb",
      "provenance": [],
      "collapsed_sections": []
    },
    "kernelspec": {
      "name": "python3",
      "display_name": "Python 3"
    }
  },
  "cells": [
    {
      "cell_type": "markdown",
      "metadata": {
        "id": "bfOAG3uRQV_H",
        "colab_type": "text"
      },
      "source": [
        "# Create an element-wise comparison (greater, greater_equal, less and less_equal) of two given arrays"
      ]
    },
    {
      "cell_type": "code",
      "metadata": {
        "id": "mY15-V9NQWIG",
        "colab_type": "code",
        "colab": {
          "base_uri": "https://localhost:8080/",
          "height": 204
        },
        "outputId": "25c40dba-0d3e-4bef-a202-788fc04e3e5e"
      },
      "source": [
        "import numpy as np\n",
        "x = np.array([3, 5])\n",
        "y = np.array([2, 5])\n",
        "print(\"Original numbers:\")\n",
        "print(x)\n",
        "print(y)\n",
        "print(\"Comparison - greater\")\n",
        "print(np.greater(x, y))\n",
        "print(\"Comparison - greater_equal\")\n",
        "print(np.greater_equal(x, y))\n",
        "print(\"Comparison - less\")\n",
        "print(np.less(x, y))\n",
        "print(\"Comparison - less_equal\")\n",
        "print(np.less_equal(x, y))"
      ],
      "execution_count": 1,
      "outputs": [
        {
          "output_type": "stream",
          "text": [
            "Original numbers:\n",
            "[3 5]\n",
            "[2 5]\n",
            "Comparison - greater\n",
            "[ True False]\n",
            "Comparison - greater_equal\n",
            "[ True  True]\n",
            "Comparison - less\n",
            "[False False]\n",
            "Comparison - less_equal\n",
            "[False  True]\n"
          ],
          "name": "stdout"
        }
      ]
    },
    {
      "cell_type": "markdown",
      "metadata": {
        "id": "QI7smnl0QdFT",
        "colab_type": "text"
      },
      "source": [
        "# Write a NumPy program to create an array of 10 zeros,10 ones, 10 fives"
      ]
    },
    {
      "cell_type": "code",
      "metadata": {
        "id": "jGAOwSR-QdTz",
        "colab_type": "code",
        "colab": {
          "base_uri": "https://localhost:8080/",
          "height": 119
        },
        "outputId": "b9478477-40e7-4b24-c856-71c97b309e9d"
      },
      "source": [
        "import numpy as np\n",
        "array=np.zeros(10)\n",
        "print(\"An array of 10 zeros:\")\n",
        "print(array)\n",
        "array=np.ones(10)\n",
        "print(\"An array of 10 ones:\")\n",
        "print(array)\n",
        "#array=np.ones(10)*5\n",
        "array = np.full([10],5)\n",
        "print(\"An array of 10 fives:\")\n",
        "print(array)"
      ],
      "execution_count": 4,
      "outputs": [
        {
          "output_type": "stream",
          "text": [
            "An array of 10 zeros:\n",
            "[0. 0. 0. 0. 0. 0. 0. 0. 0. 0.]\n",
            "An array of 10 ones:\n",
            "[1. 1. 1. 1. 1. 1. 1. 1. 1. 1.]\n",
            "An array of 10 fives:\n",
            "[5 5 5 5 5 5 5 5 5 5]\n"
          ],
          "name": "stdout"
        }
      ]
    },
    {
      "cell_type": "markdown",
      "metadata": {
        "id": "2dw_hnhkQdfW",
        "colab_type": "text"
      },
      "source": [
        "# Write a NumPy program to compute sum of all elements, sum of each column and sum of each row of a given array"
      ]
    },
    {
      "cell_type": "code",
      "metadata": {
        "id": "BxnyngfVQdp3",
        "colab_type": "code",
        "colab": {
          "base_uri": "https://localhost:8080/",
          "height": 119
        },
        "outputId": "a53719bc-ac35-4a64-f46d-bb84f0dea68d"
      },
      "source": [
        "import numpy as np\n",
        "x=np.ones([3,3])\n",
        "\n",
        "print(\"Sum of all elements:\")\n",
        "print(np.sum(x))\n",
        "print(\"Sum of each column:\")\n",
        "print(np.sum(x, axis=0))\n",
        "print(\"Sum of each row:\")\n",
        "print(np.sum(x, axis=1))"
      ],
      "execution_count": 5,
      "outputs": [
        {
          "output_type": "stream",
          "text": [
            "Sum of all elements:\n",
            "9.0\n",
            "Sum of each column:\n",
            "[3. 3. 3.]\n",
            "Sum of each row:\n",
            "[3. 3. 3.]\n"
          ],
          "name": "stdout"
        }
      ]
    },
    {
      "cell_type": "markdown",
      "metadata": {
        "id": "__OAQHphQd1a",
        "colab_type": "text"
      },
      "source": [
        "# Write a NumPy program to add, subtract, multiply, divide arguments element-wise."
      ]
    },
    {
      "cell_type": "code",
      "metadata": {
        "id": "vCi0fon3Qd9W",
        "colab_type": "code",
        "colab": {
          "base_uri": "https://localhost:8080/",
          "height": 153
        },
        "outputId": "4ab345ac-350c-4846-f8a0-947c2d7b9d52"
      },
      "source": [
        "import numpy as np\n",
        "print(\"Add:\")\n",
        "print(np.add(1.0, 4.0))\n",
        "print(\"Subtract:\")\n",
        "print(np.subtract(1.0, 4.0))\n",
        "print(\"Multiply:\")\n",
        "print(np.multiply(1.0, 4.0))\n",
        "print(\"Divide:\")\n",
        "print(np.divide(1.0, 4.0))"
      ],
      "execution_count": 6,
      "outputs": [
        {
          "output_type": "stream",
          "text": [
            "Add:\n",
            "5.0\n",
            "Subtract:\n",
            "-3.0\n",
            "Multiply:\n",
            "4.0\n",
            "Divide:\n",
            "0.25\n"
          ],
          "name": "stdout"
        }
      ]
    },
    {
      "cell_type": "markdown",
      "metadata": {
        "id": "tZLN0zkwQeGL",
        "colab_type": "text"
      },
      "source": [
        "# Write a NumPy program to compute the trigonometric sine, cosine and tangent array of angles given in degree."
      ]
    },
    {
      "cell_type": "code",
      "metadata": {
        "id": "h4Gh67TuQeNM",
        "colab_type": "code",
        "colab": {
          "base_uri": "https://localhost:8080/",
          "height": 119
        },
        "outputId": "335120e5-1478-4a81-c7a7-bbae2a07ee6c"
      },
      "source": [
        "import numpy as np\n",
        "y = np.array((30., 45.))\n",
        "print(\"sine: array of angles given in degrees\")\n",
        "print(np.sin(y * np.pi / 180.))\n",
        "print(\"cosine: array of angles given in degrees\")\n",
        "print(np.cos(y * np.pi / 180.))\n",
        "print(\"tangent: array of angles given in degrees\")\n",
        "print(np.tan(y * np.pi / 180.))"
      ],
      "execution_count": 9,
      "outputs": [
        {
          "output_type": "stream",
          "text": [
            "sine: array of angles given in degrees\n",
            "[0.5        0.70710678]\n",
            "cosine: array of angles given in degrees\n",
            "[0.8660254  0.70710678]\n",
            "tangent: array of angles given in degrees\n",
            "[0.57735027 1.        ]\n"
          ],
          "name": "stdout"
        }
      ]
    },
    {
      "cell_type": "markdown",
      "metadata": {
        "id": "SwwRSLLpQeXJ",
        "colab_type": "text"
      },
      "source": [
        "# Write a Pandas program to create and display a DataFrame from a specified dictionary data which has the index labels"
      ]
    },
    {
      "cell_type": "code",
      "metadata": {
        "id": "z5l7SXSqQeec",
        "colab_type": "code",
        "colab": {
          "base_uri": "https://localhost:8080/",
          "height": 204
        },
        "outputId": "77da2c78-0df3-4d00-eedd-d5b5f74fbf8a"
      },
      "source": [
        "import pandas as pd\n",
        "import numpy as np\n",
        "\n",
        "exam_data  = {'name': ['Anastasia', 'Dima', 'Katherine', 'James', 'Emily', 'Michael', 'Matthew', 'Laura', 'Kevin', 'Jonas'],\n",
        "        'score': [12.5, 9, 16.5, np.nan, 9, 20, 14.5, np.nan, 8, 19],\n",
        "        'attempts': [1, 3, 2, 3, 2, 3, 1, 1, 2, 1],\n",
        "        'qualify': ['yes', 'no', 'yes', 'no', 'no', 'yes', 'yes', 'no', 'no', 'yes']}\n",
        "labels = ['a', 'b', 'c', 'd', 'e', 'f', 'g', 'h', 'i', 'j']\n",
        "\n",
        "df = pd.DataFrame(exam_data , index=labels)\n",
        "print(df)"
      ],
      "execution_count": 10,
      "outputs": [
        {
          "output_type": "stream",
          "text": [
            "        name  score  attempts qualify\n",
            "a  Anastasia   12.5         1     yes\n",
            "b       Dima    9.0         3      no\n",
            "c  Katherine   16.5         2     yes\n",
            "d      James    NaN         3      no\n",
            "e      Emily    9.0         2      no\n",
            "f    Michael   20.0         3     yes\n",
            "g    Matthew   14.5         1     yes\n",
            "h      Laura    NaN         1      no\n",
            "i      Kevin    8.0         2      no\n",
            "j      Jonas   19.0         1     yes\n"
          ],
          "name": "stdout"
        }
      ]
    },
    {
      "cell_type": "markdown",
      "metadata": {
        "id": "OwDRyWrrQemO",
        "colab_type": "text"
      },
      "source": [
        "# Write a Pandas program to select the 'name' and 'score' columns from the following DataFrame."
      ]
    },
    {
      "cell_type": "code",
      "metadata": {
        "id": "3hv-QwbYQetC",
        "colab_type": "code",
        "colab": {
          "base_uri": "https://localhost:8080/",
          "height": 221
        },
        "outputId": "cdd82848-64eb-4107-9edd-26eb454ae017"
      },
      "source": [
        "\n",
        "print(\"Select specific columns:\")\n",
        "print(df[['name', 'score']])"
      ],
      "execution_count": 12,
      "outputs": [
        {
          "output_type": "stream",
          "text": [
            "Select specific columns:\n",
            "        name  score\n",
            "a  Anastasia   12.5\n",
            "b       Dima    9.0\n",
            "c  Katherine   16.5\n",
            "d      James    NaN\n",
            "e      Emily    9.0\n",
            "f    Michael   20.0\n",
            "g    Matthew   14.5\n",
            "h      Laura    NaN\n",
            "i      Kevin    8.0\n",
            "j      Jonas   19.0\n"
          ],
          "name": "stdout"
        }
      ]
    },
    {
      "cell_type": "markdown",
      "metadata": {
        "id": "6UmNDQ-BQe5-",
        "colab_type": "text"
      },
      "source": [
        "# Write a Pandas program to join the two given dataframes along rows and assign all data."
      ]
    },
    {
      "cell_type": "code",
      "metadata": {
        "id": "4ymwE_L9QfC-",
        "colab_type": "code",
        "colab": {
          "base_uri": "https://localhost:8080/",
          "height": 816
        },
        "outputId": "0eeb5368-4b00-4901-b050-1772ec4c8030"
      },
      "source": [
        "df2 = pd.DataFrame(exam_data , index=labels)\n",
        "print(\"Original DataFrames:\")\n",
        "print(df)\n",
        "print(\"-------------------------------------\")\n",
        "print(df2)\n",
        "print(\"\\nJoin the said two dataframes along rows:\")\n",
        "result_data = pd.concat([df, df2])\n",
        "print(result_data)"
      ],
      "execution_count": 13,
      "outputs": [
        {
          "output_type": "stream",
          "text": [
            "Original DataFrames:\n",
            "        name  score  attempts qualify\n",
            "a  Anastasia   12.5         1     yes\n",
            "b       Dima    9.0         3      no\n",
            "c  Katherine   16.5         2     yes\n",
            "d      James    NaN         3      no\n",
            "e      Emily    9.0         2      no\n",
            "f    Michael   20.0         3     yes\n",
            "g    Matthew   14.5         1     yes\n",
            "h      Laura    NaN         1      no\n",
            "i      Kevin    8.0         2      no\n",
            "j      Jonas   19.0         1     yes\n",
            "-------------------------------------\n",
            "        name  score  attempts qualify\n",
            "a  Anastasia   12.5         1     yes\n",
            "b       Dima    9.0         3      no\n",
            "c  Katherine   16.5         2     yes\n",
            "d      James    NaN         3      no\n",
            "e      Emily    9.0         2      no\n",
            "f    Michael   20.0         3     yes\n",
            "g    Matthew   14.5         1     yes\n",
            "h      Laura    NaN         1      no\n",
            "i      Kevin    8.0         2      no\n",
            "j      Jonas   19.0         1     yes\n",
            "\n",
            "Join the said two dataframes along rows:\n",
            "        name  score  attempts qualify\n",
            "a  Anastasia   12.5         1     yes\n",
            "b       Dima    9.0         3      no\n",
            "c  Katherine   16.5         2     yes\n",
            "d      James    NaN         3      no\n",
            "e      Emily    9.0         2      no\n",
            "f    Michael   20.0         3     yes\n",
            "g    Matthew   14.5         1     yes\n",
            "h      Laura    NaN         1      no\n",
            "i      Kevin    8.0         2      no\n",
            "j      Jonas   19.0         1     yes\n",
            "a  Anastasia   12.5         1     yes\n",
            "b       Dima    9.0         3      no\n",
            "c  Katherine   16.5         2     yes\n",
            "d      James    NaN         3      no\n",
            "e      Emily    9.0         2      no\n",
            "f    Michael   20.0         3     yes\n",
            "g    Matthew   14.5         1     yes\n",
            "h      Laura    NaN         1      no\n",
            "i      Kevin    8.0         2      no\n",
            "j      Jonas   19.0         1     yes\n"
          ],
          "name": "stdout"
        }
      ]
    },
    {
      "cell_type": "markdown",
      "metadata": {
        "id": "fIu8TYXgRGeG",
        "colab_type": "text"
      },
      "source": [
        "# Write a Pandas program to detect missing values of a given DataFrame. Display True or False."
      ]
    },
    {
      "cell_type": "code",
      "metadata": {
        "id": "jsLxx-PIRGnB",
        "colab_type": "code",
        "colab": {
          "base_uri": "https://localhost:8080/",
          "height": 204
        },
        "outputId": "b03b68de-e428-4618-eb64-6adfdbc3e234"
      },
      "source": [
        "print(df.isna())"
      ],
      "execution_count": 14,
      "outputs": [
        {
          "output_type": "stream",
          "text": [
            "    name  score  attempts  qualify\n",
            "a  False  False     False    False\n",
            "b  False  False     False    False\n",
            "c  False  False     False    False\n",
            "d  False   True     False    False\n",
            "e  False  False     False    False\n",
            "f  False  False     False    False\n",
            "g  False  False     False    False\n",
            "h  False   True     False    False\n",
            "i  False  False     False    False\n",
            "j  False  False     False    False\n"
          ],
          "name": "stdout"
        }
      ]
    },
    {
      "cell_type": "markdown",
      "metadata": {
        "id": "fPH4ky3nRMnG",
        "colab_type": "text"
      },
      "source": [
        "# Write a Pandas program to create and display a one-dimensional array-like object containing an array of data."
      ]
    },
    {
      "cell_type": "code",
      "metadata": {
        "id": "ApSuB4exRM3I",
        "colab_type": "code",
        "colab": {
          "base_uri": "https://localhost:8080/",
          "height": 119
        },
        "outputId": "94576061-0abc-483a-ac9d-29060e47a3aa"
      },
      "source": [
        "ds = pd.Series([2, 4, 6, 8, 10])\n",
        "print(ds)"
      ],
      "execution_count": 15,
      "outputs": [
        {
          "output_type": "stream",
          "text": [
            "0     2\n",
            "1     4\n",
            "2     6\n",
            "3     8\n",
            "4    10\n",
            "dtype: int64\n"
          ],
          "name": "stdout"
        }
      ]
    },
    {
      "cell_type": "code",
      "metadata": {
        "id": "E43dVcBGfQ5R",
        "colab_type": "code",
        "colab": {}
      },
      "source": [
        ""
      ],
      "execution_count": null,
      "outputs": []
    }
  ]
}