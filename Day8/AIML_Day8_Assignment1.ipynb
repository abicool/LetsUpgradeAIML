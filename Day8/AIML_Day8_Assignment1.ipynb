{
  "nbformat": 4,
  "nbformat_minor": 0,
  "metadata": {
    "colab": {
      "name": "AIML Day8 Assignment1.ipynb",
      "provenance": [],
      "collapsed_sections": []
    },
    "kernelspec": {
      "name": "python3",
      "display_name": "Python 3"
    }
  },
  "cells": [
    {
      "cell_type": "markdown",
      "metadata": {
        "id": "eRNFKECQ2KP3",
        "colab_type": "text"
      },
      "source": [
        "# Recreate “NB 21 map, filter, lambda.ipynb” to try different variations or perform different calculations from the ones that are in the NB"
      ]
    },
    {
      "cell_type": "markdown",
      "metadata": {
        "id": "amCrZxHg2ZV4",
        "colab_type": "text"
      },
      "source": [
        "map()"
      ]
    },
    {
      "cell_type": "code",
      "metadata": {
        "id": "vcaeUuYH2K6C",
        "colab_type": "code",
        "colab": {
          "base_uri": "https://localhost:8080/",
          "height": 102
        },
        "outputId": "4166c5e7-249c-4b05-b027-743e13cb38f8"
      },
      "source": [
        "def sqr(a):\n",
        "    return a*a\n",
        "\n",
        "def sqr1(a,b):\n",
        "    return a*b\n",
        "\n",
        "n= sqr(5)\n",
        "print(n)\n",
        "x = map(sqr,[1,2,3,4,5])\n",
        "print(x)\n",
        "print(type(x))\n",
        "print(list(x))\n",
        "\n",
        "print(list(map(sqr1, [ i for i in range(5)], (2,2,2,2,2) )))"
      ],
      "execution_count": 1,
      "outputs": [
        {
          "output_type": "stream",
          "text": [
            "25\n",
            "<map object at 0x7f9355223a90>\n",
            "<class 'map'>\n",
            "[1, 4, 9, 16, 25]\n",
            "[0, 2, 4, 6, 8]\n"
          ],
          "name": "stdout"
        }
      ]
    },
    {
      "cell_type": "markdown",
      "metadata": {
        "id": "pnCsD1dg3NBs",
        "colab_type": "text"
      },
      "source": [
        "Lambda functions"
      ]
    },
    {
      "cell_type": "code",
      "metadata": {
        "id": "cDUnlBYu3HjN",
        "colab_type": "code",
        "colab": {
          "base_uri": "https://localhost:8080/",
          "height": 34
        },
        "outputId": "321874e5-1e47-4819-9d59-74a9a4ccc86e"
      },
      "source": [
        "def sqr(a):\n",
        "    return a*a\n",
        "\n",
        "sqr(3)"
      ],
      "execution_count": 2,
      "outputs": [
        {
          "output_type": "execute_result",
          "data": {
            "text/plain": [
              "9"
            ]
          },
          "metadata": {
            "tags": []
          },
          "execution_count": 2
        }
      ]
    },
    {
      "cell_type": "code",
      "metadata": {
        "id": "TxTwckQ43lrl",
        "colab_type": "code",
        "colab": {
          "base_uri": "https://localhost:8080/",
          "height": 34
        },
        "outputId": "fffb408c-e083-40e4-a896-69987b415271"
      },
      "source": [
        "x = lambda a: a*a\n",
        "x(3)\n"
      ],
      "execution_count": 3,
      "outputs": [
        {
          "output_type": "execute_result",
          "data": {
            "text/plain": [
              "9"
            ]
          },
          "metadata": {
            "tags": []
          },
          "execution_count": 3
        }
      ]
    },
    {
      "cell_type": "code",
      "metadata": {
        "id": "djvR1YHR3qNn",
        "colab_type": "code",
        "colab": {
          "base_uri": "https://localhost:8080/",
          "height": 51
        },
        "outputId": "c26de327-aac6-45bb-a843-815ff9b70d97"
      },
      "source": [
        "def abc(x):\n",
        "    return lambda y: x+y\n",
        "t = abc(4)\n",
        "print(t)\n",
        "print(t(5))"
      ],
      "execution_count": 4,
      "outputs": [
        {
          "output_type": "stream",
          "text": [
            "<function abc.<locals>.<lambda> at 0x7f9355210048>\n",
            "9\n"
          ],
          "name": "stdout"
        }
      ]
    },
    {
      "cell_type": "code",
      "metadata": {
        "id": "u7ARPOxB3rVG",
        "colab_type": "code",
        "colab": {
          "base_uri": "https://localhost:8080/",
          "height": 34
        },
        "outputId": "26ead91b-a7d2-498f-8f83-8dfde2df15f8"
      },
      "source": [
        "z = lambda x,y: 5*x+3*y\n",
        "z(1,2)"
      ],
      "execution_count": 5,
      "outputs": [
        {
          "output_type": "execute_result",
          "data": {
            "text/plain": [
              "11"
            ]
          },
          "metadata": {
            "tags": []
          },
          "execution_count": 5
        }
      ]
    },
    {
      "cell_type": "code",
      "metadata": {
        "id": "P0dvfFU73yc1",
        "colab_type": "code",
        "colab": {
          "base_uri": "https://localhost:8080/",
          "height": 34
        },
        "outputId": "c9dba346-3b04-4c13-cd69-610d94bd7131"
      },
      "source": [
        "l = [1,2,3,4]\n",
        "x = list(map(lambda x: x+2,l))\n",
        "print(x)"
      ],
      "execution_count": 6,
      "outputs": [
        {
          "output_type": "stream",
          "text": [
            "[3, 4, 5, 6]\n"
          ],
          "name": "stdout"
        }
      ]
    },
    {
      "cell_type": "markdown",
      "metadata": {
        "id": "7rSlWJTx4Ad_",
        "colab_type": "text"
      },
      "source": [
        "filter()"
      ]
    },
    {
      "cell_type": "code",
      "metadata": {
        "id": "AHBY75Vr4BVI",
        "colab_type": "code",
        "colab": {
          "base_uri": "https://localhost:8080/",
          "height": 68
        },
        "outputId": "5e336c6f-b168-4605-de9b-c78fff0f049d"
      },
      "source": [
        "def sqr(a):\n",
        "    if a>=3:\n",
        "        return a\n",
        "x = filter( sqr, [1,2,3,4,5] )\n",
        "print(x)\n",
        "print(type(x))\n",
        "print(list(x))"
      ],
      "execution_count": 7,
      "outputs": [
        {
          "output_type": "stream",
          "text": [
            "<filter object at 0x7f93549aa6d8>\n",
            "<class 'filter'>\n",
            "[3, 4, 5]\n"
          ],
          "name": "stdout"
        }
      ]
    },
    {
      "cell_type": "code",
      "metadata": {
        "id": "cVbzXaRH4Etl",
        "colab_type": "code",
        "colab": {
          "base_uri": "https://localhost:8080/",
          "height": 34
        },
        "outputId": "0e702c15-e586-4038-f287-f672baec4542"
      },
      "source": [
        "l = [1,2,3,4]\n",
        "x = filter( lambda x: x>=3 ,l )\n",
        "print(list(x))"
      ],
      "execution_count": 11,
      "outputs": [
        {
          "output_type": "stream",
          "text": [
            "[3, 4]\n"
          ],
          "name": "stdout"
        }
      ]
    },
    {
      "cell_type": "markdown",
      "metadata": {
        "id": "5VplQnJ14hgM",
        "colab_type": "text"
      },
      "source": [
        "reduce()"
      ]
    },
    {
      "cell_type": "code",
      "metadata": {
        "id": "4D8WrAFc4R6l",
        "colab_type": "code",
        "colab": {
          "base_uri": "https://localhost:8080/",
          "height": 34
        },
        "outputId": "106cf78f-a2a7-4a1f-bf42-ae3c62d78119"
      },
      "source": [
        "from functools import reduce \n",
        "def sqr(a,b):\n",
        "    return a+b\n",
        "\n",
        "x = reduce(sqr, [0,1,2,3,4])\n",
        "print(x)"
      ],
      "execution_count": 12,
      "outputs": [
        {
          "output_type": "stream",
          "text": [
            "10\n"
          ],
          "name": "stdout"
        }
      ]
    },
    {
      "cell_type": "code",
      "metadata": {
        "id": "cFoutgBv4lFl",
        "colab_type": "code",
        "colab": {
          "base_uri": "https://localhost:8080/",
          "height": 51
        },
        "outputId": "1564953f-4c8c-43d0-8a82-b304bd63243a"
      },
      "source": [
        "x = filter(lambda x: x>4,  map(lambda x: x+3., [1,2,3,4]))\n",
        "print(x)\n",
        "print(list(x))\n"
      ],
      "execution_count": 13,
      "outputs": [
        {
          "output_type": "stream",
          "text": [
            "<filter object at 0x7f9354978240>\n",
            "[5.0, 6.0, 7.0]\n"
          ],
          "name": "stdout"
        }
      ]
    },
    {
      "cell_type": "code",
      "metadata": {
        "id": "tQ3o3Jie_2Vv",
        "colab_type": "code",
        "colab": {
          "base_uri": "https://localhost:8080/",
          "height": 34
        },
        "outputId": "c93fdb06-93bd-411a-e94b-b4bff17edf36"
      },
      "source": [
        "x = reduce(lambda x,y: x+y,  map(lambda x:x+x, filter(lambda x: x>=3, (1,2,3,4))))\n",
        "print(x)"
      ],
      "execution_count": 14,
      "outputs": [
        {
          "output_type": "stream",
          "text": [
            "14\n"
          ],
          "name": "stdout"
        }
      ]
    },
    {
      "cell_type": "code",
      "metadata": {
        "id": "BxDXmiRJADoF",
        "colab_type": "code",
        "colab": {}
      },
      "source": [
        ""
      ],
      "execution_count": null,
      "outputs": []
    }
  ]
}