{
  "nbformat": 4,
  "nbformat_minor": 0,
  "metadata": {
    "colab": {
      "name": "AIML Day8 Assignment2.ipynb",
      "provenance": [],
      "collapsed_sections": []
    },
    "kernelspec": {
      "name": "python3",
      "display_name": "Python 3"
    }
  },
  "cells": [
    {
      "cell_type": "markdown",
      "metadata": {
        "id": "7xZ3d1qDAJu5",
        "colab_type": "text"
      },
      "source": [
        "# Recreate your own Python NB for “Classes and Objects” from the pdf provided namely “Classes&Objects.pdf”"
      ]
    },
    {
      "cell_type": "code",
      "metadata": {
        "id": "aKeae-dwAJ43",
        "colab_type": "code",
        "colab": {
          "base_uri": "https://localhost:8080/",
          "height": 51
        },
        "outputId": "44010257-4f34-4179-dafb-2120daae2d85"
      },
      "source": [
        "class abc:\n",
        "    def show(self):\n",
        "        print(\"Hello Abi.\")\n",
        "\n",
        "s = abc()\n",
        "s.show()\n",
        "t = abc()\n",
        "t.show()"
      ],
      "execution_count": 17,
      "outputs": [
        {
          "output_type": "stream",
          "text": [
            "Hello Abi.\n",
            "Hello Abi.\n"
          ],
          "name": "stdout"
        }
      ]
    },
    {
      "cell_type": "code",
      "metadata": {
        "id": "K-xRmMgCAWTV",
        "colab_type": "code",
        "colab": {
          "base_uri": "https://localhost:8080/",
          "height": 51
        },
        "outputId": "6d8c53b4-0bf9-44a0-b53e-9f34ee44c3ee"
      },
      "source": [
        "class abc:\n",
        "    y=2\n",
        "    __v=4 \n",
        "    def show(self):\n",
        "        print(\"Hello from class\")\n",
        "        \n",
        "\n",
        "s = abc()\n",
        "print(s.y)\n",
        "s.show()"
      ],
      "execution_count": 16,
      "outputs": [
        {
          "output_type": "stream",
          "text": [
            "2\n",
            "Hello from class\n"
          ],
          "name": "stdout"
        }
      ]
    },
    {
      "cell_type": "code",
      "metadata": {
        "id": "O7vLD3T_AZDE",
        "colab_type": "code",
        "colab": {
          "base_uri": "https://localhost:8080/",
          "height": 102
        },
        "outputId": "09c71c3f-e239-417b-830d-b659fbd8b924"
      },
      "source": [
        "class xyz:\n",
        "    def __init__(self):\n",
        "        print(\"I am called.\")\n",
        "        print(\"I am ready\")\n",
        "        print(\"Lets go ahead.\")\n",
        "    def show(self):\n",
        "        print(\"You are in show.\")\n",
        "        print(\"Bye from show.\")\n",
        "s = xyz()\n",
        "\n",
        "s.show()\n"
      ],
      "execution_count": 3,
      "outputs": [
        {
          "output_type": "stream",
          "text": [
            "I am called.\n",
            "I am ready\n",
            "Lets go ahead.\n",
            "You are in show.\n",
            "Bye from show.\n"
          ],
          "name": "stdout"
        }
      ]
    },
    {
      "cell_type": "code",
      "metadata": {
        "id": "vpW24dx0Acgl",
        "colab_type": "code",
        "colab": {
          "base_uri": "https://localhost:8080/",
          "height": 119
        },
        "outputId": "466b01e6-b6c9-421d-bb61-b49b7e9b5a8c"
      },
      "source": [
        "class st:\n",
        "    def add(self,a,b):\n",
        "        self.a=a\n",
        "        self.b=b\n",
        "        print(self.a,self.b)\n",
        "        print(a,b)\n",
        "        a=99\n",
        "        b=88\n",
        "        print(self.a,self.b)\n",
        "        print(a,b)\n",
        "        self.a=555\n",
        "        self.b=666\n",
        "        print(self.a,self.b)\n",
        "        print(a,b)\n",
        "\n",
        "s=st()\n",
        "s.add(4,3)\n"
      ],
      "execution_count": 4,
      "outputs": [
        {
          "output_type": "stream",
          "text": [
            "4 3\n",
            "4 3\n",
            "4 3\n",
            "99 88\n",
            "555 666\n",
            "99 88\n"
          ],
          "name": "stdout"
        }
      ]
    },
    {
      "cell_type": "code",
      "metadata": {
        "id": "Wp1yVADZAjxk",
        "colab_type": "code",
        "colab": {
          "base_uri": "https://localhost:8080/",
          "height": 51
        },
        "outputId": "5107dd6c-9cc7-455e-a3ba-2a9ce6c45bd8"
      },
      "source": [
        "class st:\n",
        "    def __init__(self,a,b):\n",
        "        self.a=a\n",
        "        self.b=b\n",
        "\n",
        "s=st(\"Phd\",\"CSE & Eng\")\n",
        "print(\"Highest qual: \",s.a)\n",
        "print(\"Strm: \",s.b)"
      ],
      "execution_count": 15,
      "outputs": [
        {
          "output_type": "stream",
          "text": [
            "Highest qual:  Phd\n",
            "Strm:  CSE & Eng\n"
          ],
          "name": "stdout"
        }
      ]
    },
    {
      "cell_type": "markdown",
      "metadata": {
        "id": "iKulBF3fAoMW",
        "colab_type": "text"
      },
      "source": [
        "del()\n"
      ]
    },
    {
      "cell_type": "code",
      "metadata": {
        "id": "tjsYthHqAmPF",
        "colab_type": "code",
        "colab": {
          "base_uri": "https://localhost:8080/",
          "height": 85
        },
        "outputId": "f5cca4c9-bfb8-4f15-d731-adfa6a9d47e7"
      },
      "source": [
        "class abc:\n",
        "    def __init__(self,n): #Parameterized constructor\n",
        "        print(\"Hello \",n)\n",
        "    def __del__(self):\n",
        "        print(\"Object deleted\")\n",
        "\n",
        "s1=abc(\"Abishek\")\n",
        "s2=abc(\"Python\")"
      ],
      "execution_count": 14,
      "outputs": [
        {
          "output_type": "stream",
          "text": [
            "Hello  Abishek\n",
            "Object deleted\n",
            "Hello  Python\n",
            "Object deleted\n"
          ],
          "name": "stdout"
        }
      ]
    },
    {
      "cell_type": "markdown",
      "metadata": {
        "id": "zeVevKO_AtqL",
        "colab_type": "text"
      },
      "source": [
        "Data Encapsulation"
      ]
    },
    {
      "cell_type": "code",
      "metadata": {
        "id": "SskmuurUAp8F",
        "colab_type": "code",
        "colab": {
          "base_uri": "https://localhost:8080/",
          "height": 270
        },
        "outputId": "97a3bb01-73da-415b-d462-05e483a4495a"
      },
      "source": [
        "class st:\n",
        "    def __init__(self):\n",
        "        self.__show1()\n",
        "    def show(self):\n",
        "        print(\"Abishek M\")\n",
        "    def __show1(self):\n",
        "        print(\"Hello \")\n",
        "        \n",
        "v=st()\n",
        "v.show()\n",
        "v.__show1()"
      ],
      "execution_count": 13,
      "outputs": [
        {
          "output_type": "stream",
          "text": [
            "Hello \n",
            "Abishek M\n"
          ],
          "name": "stdout"
        },
        {
          "output_type": "error",
          "ename": "AttributeError",
          "evalue": "ignored",
          "traceback": [
            "\u001b[0;31m---------------------------------------------------------------------------\u001b[0m",
            "\u001b[0;31mAttributeError\u001b[0m                            Traceback (most recent call last)",
            "\u001b[0;32m<ipython-input-13-ccaf67bedeb9>\u001b[0m in \u001b[0;36m<module>\u001b[0;34m()\u001b[0m\n\u001b[1;32m      9\u001b[0m \u001b[0mv\u001b[0m\u001b[0;34m=\u001b[0m\u001b[0mst\u001b[0m\u001b[0;34m(\u001b[0m\u001b[0;34m)\u001b[0m\u001b[0;34m\u001b[0m\u001b[0;34m\u001b[0m\u001b[0m\n\u001b[1;32m     10\u001b[0m \u001b[0mv\u001b[0m\u001b[0;34m.\u001b[0m\u001b[0mshow\u001b[0m\u001b[0;34m(\u001b[0m\u001b[0;34m)\u001b[0m\u001b[0;34m\u001b[0m\u001b[0;34m\u001b[0m\u001b[0m\n\u001b[0;32m---> 11\u001b[0;31m \u001b[0mv\u001b[0m\u001b[0;34m.\u001b[0m\u001b[0m__show1\u001b[0m\u001b[0;34m(\u001b[0m\u001b[0;34m)\u001b[0m\u001b[0;34m\u001b[0m\u001b[0;34m\u001b[0m\u001b[0m\n\u001b[0m",
            "\u001b[0;31mAttributeError\u001b[0m: 'st' object has no attribute '__show1'"
          ]
        }
      ]
    },
    {
      "cell_type": "markdown",
      "metadata": {
        "id": "9ioNu4H9A1yW",
        "colab_type": "text"
      },
      "source": [
        "Data Abstraction"
      ]
    },
    {
      "cell_type": "code",
      "metadata": {
        "id": "8ifHGgLpAwjU",
        "colab_type": "code",
        "colab": {
          "base_uri": "https://localhost:8080/",
          "height": 248
        },
        "outputId": "ce1975a2-c7a8-4bd1-c835-2dd12107f44c"
      },
      "source": [
        "class abc:\n",
        "    __p=0\n",
        "    def show(self):\n",
        "        self.__p=self.__p+1\n",
        "        print(self.__p)\n",
        "\n",
        "v=abc()\n",
        "v.show()\n",
        "v.show()\n",
        "v.show()\n",
        "print(v.__p)"
      ],
      "execution_count": 11,
      "outputs": [
        {
          "output_type": "stream",
          "text": [
            "1\n",
            "2\n",
            "3\n"
          ],
          "name": "stdout"
        },
        {
          "output_type": "error",
          "ename": "AttributeError",
          "evalue": "ignored",
          "traceback": [
            "\u001b[0;31m---------------------------------------------------------------------------\u001b[0m",
            "\u001b[0;31mAttributeError\u001b[0m                            Traceback (most recent call last)",
            "\u001b[0;32m<ipython-input-11-7464a4f173f6>\u001b[0m in \u001b[0;36m<module>\u001b[0;34m()\u001b[0m\n\u001b[1;32m      9\u001b[0m \u001b[0mv\u001b[0m\u001b[0;34m.\u001b[0m\u001b[0mshow\u001b[0m\u001b[0;34m(\u001b[0m\u001b[0;34m)\u001b[0m\u001b[0;34m\u001b[0m\u001b[0;34m\u001b[0m\u001b[0m\n\u001b[1;32m     10\u001b[0m \u001b[0mv\u001b[0m\u001b[0;34m.\u001b[0m\u001b[0mshow\u001b[0m\u001b[0;34m(\u001b[0m\u001b[0;34m)\u001b[0m\u001b[0;34m\u001b[0m\u001b[0;34m\u001b[0m\u001b[0m\n\u001b[0;32m---> 11\u001b[0;31m \u001b[0mprint\u001b[0m\u001b[0;34m(\u001b[0m\u001b[0mv\u001b[0m\u001b[0;34m.\u001b[0m\u001b[0m__p\u001b[0m\u001b[0;34m)\u001b[0m\u001b[0;34m\u001b[0m\u001b[0;34m\u001b[0m\u001b[0m\n\u001b[0m",
            "\u001b[0;31mAttributeError\u001b[0m: 'abc' object has no attribute '__p'"
          ]
        }
      ]
    },
    {
      "cell_type": "markdown",
      "metadata": {
        "id": "bqV-6Y5PBAXY",
        "colab_type": "text"
      },
      "source": [
        "Polymorphism"
      ]
    },
    {
      "cell_type": "code",
      "metadata": {
        "id": "OcteXd8TA6r5",
        "colab_type": "code",
        "colab": {
          "base_uri": "https://localhost:8080/",
          "height": 85
        },
        "outputId": "3fe6e950-1e3a-4d27-d23a-228cb47a8040"
      },
      "source": [
        "def show(s):\n",
        "    print(\"s= \",s)\n",
        "\n",
        "show(11)\n",
        "show(\"Abishek\")\n",
        "show(2.546)\n",
        "show(complex(2,4))"
      ],
      "execution_count": 10,
      "outputs": [
        {
          "output_type": "stream",
          "text": [
            "s=  11\n",
            "s=  Abishek\n",
            "s=  2.546\n",
            "s=  (2+4j)\n"
          ],
          "name": "stdout"
        }
      ]
    },
    {
      "cell_type": "code",
      "metadata": {
        "id": "gRZp3Q2BBCj1",
        "colab_type": "code",
        "colab": {}
      },
      "source": [
        ""
      ],
      "execution_count": null,
      "outputs": []
    }
  ]
}