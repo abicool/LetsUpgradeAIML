{
  "nbformat": 4,
  "nbformat_minor": 0,
  "metadata": {
    "colab": {
      "name": "AIML_Day5_Assignment.ipynb",
      "provenance": [],
      "collapsed_sections": []
    },
    "kernelspec": {
      "name": "python3",
      "display_name": "Python 3"
    }
  },
  "cells": [
    {
      "cell_type": "markdown",
      "metadata": {
        "id": "5YzCQOwNFk-Z",
        "colab_type": "text"
      },
      "source": [
        "# Write a Python program to find the first 20 non-even prime natural numbers."
      ]
    },
    {
      "cell_type": "code",
      "metadata": {
        "id": "EoL3E1ASFoTz",
        "colab_type": "code",
        "colab": {
          "base_uri": "https://localhost:8080/",
          "height": 187
        },
        "outputId": "42dd12b8-4782-4ef2-bdc4-53fac27af69f"
      },
      "source": [
        "start = 0\n",
        "end = 20\n",
        "  \n",
        "for i in range(start,end):\n",
        "  if(i % 2==0): \n",
        "    continue\n",
        "  else: \n",
        "    for j in range(2,i):\n",
        "      if(i%j==0):\n",
        "        break\n",
        "  print(i) "
      ],
      "execution_count": 1,
      "outputs": [
        {
          "output_type": "stream",
          "text": [
            "1\n",
            "3\n",
            "5\n",
            "7\n",
            "9\n",
            "11\n",
            "13\n",
            "15\n",
            "17\n",
            "19\n"
          ],
          "name": "stdout"
        }
      ]
    },
    {
      "cell_type": "markdown",
      "metadata": {
        "id": "XHA0XDk3XoFg",
        "colab_type": "text"
      },
      "source": [
        "# Write a Python program to implement 15 functions of string."
      ]
    },
    {
      "cell_type": "code",
      "metadata": {
        "id": "68Xgbt4_Utxa",
        "colab_type": "code",
        "colab": {
          "base_uri": "https://localhost:8080/",
          "height": 833
        },
        "outputId": "82aa16af-8da6-4c66-b3af-3c40ac4cbf7e"
      },
      "source": [
        "def main():\n",
        "    print('\\nString Functions\\n')\n",
        " \n",
        "    user_string = \"China\"\n",
        "    if user_string.isalnum():\n",
        "        print(user_string, ': The String is alphanumeric.\\n')\n",
        " \n",
        "    user_string = \"1974\"\n",
        "    if user_string.isdigit():\n",
        "        print(user_string, ': The String contains only digits.\\n')\n",
        " \n",
        "    user_string = \"Australia\"\n",
        "    if user_string.isalpha():\n",
        "        print(user_string, ': String contains only alphabetic characters.\\n')\n",
        " \n",
        "    user_string = \"   \"\n",
        "    if user_string.isspace():\n",
        "        print(user_string, ': String contains only whitespace characters.\\n')\n",
        " \n",
        "    user_string = \"JAPAN\"\n",
        "    if user_string.isupper():\n",
        "        print(user_string, ': All letters in the string are uppercase.\\n')\n",
        " \n",
        "    user_string = \"Australia 1974\"\n",
        "    if user_string.islower():\n",
        "        print(user_string, ': All letters in the string are lowercase.\\n')\n",
        " \n",
        "    user_string = \"India 1974\"\n",
        "    toLower = user_string.lower()\n",
        "    print(user_string, ': Convert String in lowercase:', toLower, '\\n')\n",
        " \n",
        "    toUpper = user_string.upper()\n",
        "    print(user_string, ': Convert String in uppercase:', toUpper, '\\n')\n",
        " \n",
        "    user_string = \"   India 1974\"\n",
        "    print('\\nLeft Strip:', user_string.lstrip())\n",
        " \n",
        "    user_string = \"America 1974\"\n",
        "    print('\\nLeft Strip with Character A:', user_string.lstrip('A'))\n",
        " \n",
        "    user_string = \"America 1974     \"\n",
        "    print('\\nRight Strip:', user_string.rstrip('A'))\n",
        " \n",
        "    user_string = \"America\"\n",
        "    print('\\nRight Strip with Character a:', user_string.rstrip('a'))\n",
        " \n",
        "    user_string = \"   America 1974    \"\n",
        "    print('\\nStrip from both side :', user_string.strip())\n",
        " \n",
        "    user_string = \"America Russia Japan China\"\n",
        "    print('\\nStrip with Character A:', user_string.strip('A'))\n",
        "    print('Strip with Character a:', user_string.strip('a'))\n",
        " \n",
        "    print('\\nendswith check whether a string ends with a specified substring')\n",
        "    user_string = \"Columbia\"\n",
        "    print(user_string.endswith('bia'))\n",
        "    print(user_string.endswith('mia'))\n",
        " \n",
        "    print('\\nstartswith check if a string starts with a specified substring')\n",
        "    user_string = \"Columbia\"\n",
        "    print(user_string.startswith('Colum'))\n",
        "    print(user_string.startswith('Rolum'))\n",
        " \n",
        "    print('\\n################## Find Method ##################')\n",
        "    user_string = \"Columbia\"\n",
        "    print(user_string.find('lumbia'))\n",
        "    print(user_string.find('colbia'))\n",
        "    print(user_string.find('bia'))\n",
        "    print(user_string.find('col'))\n",
        "    print(user_string.find('Col'))\n",
        " \n",
        "    print('\\n################## Replace Method ##################')\n",
        "    user_string = \"Hello Columbia\"\n",
        "    old = \"Columbia\"\n",
        "    new = \"Russia\"\n",
        "    print(user_string.replace(old, new))\n",
        " \n",
        "main()"
      ],
      "execution_count": 2,
      "outputs": [
        {
          "output_type": "stream",
          "text": [
            "\n",
            "String Functions\n",
            "\n",
            "China : The String is alphanumeric.\n",
            "\n",
            "1974 : The String contains only digits.\n",
            "\n",
            "Australia : String contains only alphabetic characters.\n",
            "\n",
            "    : String contains only whitespace characters.\n",
            "\n",
            "JAPAN : All letters in the string are uppercase.\n",
            "\n",
            "India 1974 : Convert String in lowercase: india 1974 \n",
            "\n",
            "India 1974 : Convert String in uppercase: INDIA 1974 \n",
            "\n",
            "\n",
            "Left Strip: India 1974\n",
            "\n",
            "Left Strip with Character A: merica 1974\n",
            "\n",
            "Right Strip: America 1974     \n",
            "\n",
            "Right Strip with Character a: Americ\n",
            "\n",
            "Strip from both side : America 1974\n",
            "\n",
            "Strip with Character A: merica Russia Japan China\n",
            "Strip with Character a: America Russia Japan Chin\n",
            "\n",
            "endswith check whether a string ends with a specified substring\n",
            "True\n",
            "False\n",
            "\n",
            "startswith check if a string starts with a specified substring\n",
            "True\n",
            "False\n",
            "\n",
            "################## Find Method ##################\n",
            "2\n",
            "-1\n",
            "5\n",
            "-1\n",
            "0\n",
            "\n",
            "################## Replace Method ##################\n",
            "Hello Russia\n"
          ],
          "name": "stdout"
        }
      ]
    },
    {
      "cell_type": "markdown",
      "metadata": {
        "id": "3_-Fd5x0XuqD",
        "colab_type": "text"
      },
      "source": [
        "# Write a Python program to check if the given string is a Palindrome or Anagram or None of them. Display the message accordingly to the user."
      ]
    },
    {
      "cell_type": "code",
      "metadata": {
        "id": "tW4LedqgX0tZ",
        "colab_type": "code",
        "colab": {
          "base_uri": "https://localhost:8080/",
          "height": 85
        },
        "outputId": "63142def-6857-47e0-c665-dee33d6078a4"
      },
      "source": [
        "def isPalindrome(str):\n",
        " \n",
        "    for i in range(0, int(len(str)/2)): \n",
        "        if str[i] != str[len(str)-i-1]:\n",
        "            return False\n",
        "    return True\n",
        " \n",
        "def isanagram(a):\n",
        "    s = a    \n",
        "    s2=input(\"Enter second string to check if it is a anagram: \")\n",
        "    if(sorted(s)==sorted(s2)):\n",
        "      print(\"The strings are anagrams.\")\n",
        "    else:\n",
        "      print(\"The strings aren't anagrams.\")\n",
        "\n",
        "s = input(\"Enter a word to check if it is a palindrome \")\n",
        "ans = isPalindrome(s)\n",
        " \n",
        "if (ans):\n",
        "    print(\"Yes it is a palindrome\")\n",
        "    isanagram(s)\n",
        "else:\n",
        "    print(\"No it is not a palindrome\")\n",
        "    isanagram(s)\n",
        "\n",
        "\n"
      ],
      "execution_count": 3,
      "outputs": [
        {
          "output_type": "stream",
          "text": [
            "Enter a word to check if it is a palindrome malayalam\n",
            "Yes it is a palindrome\n",
            "Enter second string to check if it is a anagram: yalammala\n",
            "The strings are anagrams.\n"
          ],
          "name": "stdout"
        }
      ]
    },
    {
      "cell_type": "markdown",
      "metadata": {
        "id": "mcxXszMFX1iv",
        "colab_type": "text"
      },
      "source": [
        "# Write a Python's user-defined function that removes all the additional characters from the string and convert it finally to lower case using built-in lower(). eg: If the string is \"Dr. Darshan Ingle @AIML Trainer\", then the output be \"drdarshaningleaimltrainer\"."
      ]
    },
    {
      "cell_type": "code",
      "metadata": {
        "id": "uigR2TDEX8Q0",
        "colab_type": "code",
        "colab": {
          "base_uri": "https://localhost:8080/",
          "height": 52
        },
        "outputId": "ffa408db-7596-47d4-d571-24498127c214"
      },
      "source": [
        "def toalphanumeric(stringvar):\n",
        "  newstr = \"\"\n",
        "  for i in range(0,len(stringvar)):\n",
        "    if (stringvar[i].isalnum()):\n",
        "      newstr = newstr + stringvar[i].lower()\n",
        "  return newstr\n",
        "\n",
        "str1 = input(\"Enter a string: \")\n",
        "toalphanumeric(str1)"
      ],
      "execution_count": 11,
      "outputs": [
        {
          "output_type": "stream",
          "text": [
            "Enter a string: Dr. Darshan Ingle @AIML Trainer\n"
          ],
          "name": "stdout"
        },
        {
          "output_type": "execute_result",
          "data": {
            "application/vnd.google.colaboratory.intrinsic+json": {
              "type": "string"
            },
            "text/plain": [
              "'drdarshaningleaimltrainer'"
            ]
          },
          "metadata": {
            "tags": []
          },
          "execution_count": 11
        }
      ]
    }
  ]
}