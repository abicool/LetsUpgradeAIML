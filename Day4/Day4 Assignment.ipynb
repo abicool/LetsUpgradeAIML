{
 "cells": [
  {
   "cell_type": "markdown",
   "metadata": {},
   "source": [
    "# Research on whether addition, subtraction, multiplication, division, floor division, and modulo operations be performed on complex numbers. Based on your study, implement a Python program to demonstrate these operations."
   ]
  },
  {
   "cell_type": "code",
   "execution_count": 5,
   "metadata": {},
   "outputs": [
    {
     "name": "stdout",
     "output_type": "stream",
     "text": [
      "(2+3j) + (5+7j) is (7+10j)\n",
      "(2+3j) - (5+7j) is (-3-4j)\n",
      "(2+3j) * (5+7j) is (-11+29j)\n",
      "(2+3j) / (5+7j) is (0.41891891891891897+0.013513513513513507j)\n"
     ]
    }
   ],
   "source": [
    "def add(a,b):\n",
    "    return a+b\n",
    "def sub(a,b):\n",
    "    return a-b\n",
    "def mul(a,b):\n",
    "    return a*b\n",
    "def div(a,b):\n",
    "    return a/b\n",
    "def fdiv(a,b):\n",
    "    return a//b\n",
    "def mod(a,b):\n",
    "    return a%b\n",
    "\n",
    "c=2+3j\n",
    "d=5+7j\n",
    "print(c,\"+\",d,\"is\",add(c,d))\n",
    "print(c,\"-\",d,\"is\",sub(c,d))\n",
    "print(c,\"*\",d,\"is\",mul(c,d))\n",
    "print(c,\"/\",d,\"is\",div(c,d))\n",
    "#print(c,\"//\",d,\"is\",fdiv(c,d))\n",
    "#print(c,\"%\",d,\"is\",mod(c,d))\n"
   ]
  },
  {
   "cell_type": "markdown",
   "metadata": {},
   "source": [
    "We cant floor division or modulo a complex number"
   ]
  },
  {
   "cell_type": "markdown",
   "metadata": {},
   "source": [
    "# Research on range() functions and its parameters. Create a markdown cell and write in your own words (no copy-paste from google please) what you understand about it. Implement a small program of your choice on the same."
   ]
  },
  {
   "cell_type": "markdown",
   "metadata": {},
   "source": [
    "Range function provides a range of values with 3 parameters which we can pass such as start, stop, step. based on the passed values the output will be generated accordingly."
   ]
  },
  {
   "cell_type": "code",
   "execution_count": 8,
   "metadata": {},
   "outputs": [
    {
     "name": "stdout",
     "output_type": "stream",
     "text": [
      "1\n",
      "2\n",
      "3\n",
      "4\n",
      "5\n",
      "6\n",
      "7\n",
      "8\n",
      "9\n",
      "\n",
      "1 3 5 7 9 "
     ]
    }
   ],
   "source": [
    "for i in range(1,10,1):\n",
    "    print(i)\n",
    "print()\n",
    "for i in range(1,10,2):\n",
    "    print(i,end=\" \")"
   ]
  },
  {
   "cell_type": "markdown",
   "metadata": {},
   "source": [
    "# Consider two numbers. Perform their subtraction and if the result of subtraction is greater than 25, print their multiplication result else print their division result."
   ]
  },
  {
   "cell_type": "code",
   "execution_count": 12,
   "metadata": {},
   "outputs": [
    {
     "name": "stdout",
     "output_type": "stream",
     "text": [
      "25\n"
     ]
    }
   ],
   "source": [
    "a = 25\n",
    "b = 1\n",
    "c = a - b\n",
    "if c<25:\n",
    "    print(a*b)\n",
    "else:\n",
    "    print(a/b)"
   ]
  },
  {
   "cell_type": "markdown",
   "metadata": {},
   "source": [
    "# Consider a list of 10 elements of integer values. If the number in the list is divisible by 2, print the result as \"square of that number minus 2\"."
   ]
  },
  {
   "cell_type": "code",
   "execution_count": 17,
   "metadata": {},
   "outputs": [
    {
     "name": "stdout",
     "output_type": "stream",
     "text": [
      "the value of i is 2 and the output is -2\n",
      "the value of i is 4 and the output is 4\n",
      "the value of i is 6 and the output is 2\n",
      "the value of i is 8 and the output is 8\n",
      "the value of i is 0 and the output is 0\n"
     ]
    }
   ],
   "source": [
    "a=[1,2,3,4,5,6,7,8,9,0]\n",
    "for i in a:\n",
    "    if (i%2)==0:\n",
    "        print(\"the value of i is\",i,\"and the output is\",(i^2)-2)"
   ]
  },
  {
   "cell_type": "markdown",
   "metadata": {},
   "source": [
    "# Consider a list of 10 elements. Print all the elements in the list which are greater than 7 when that number is divided 2."
   ]
  },
  {
   "cell_type": "code",
   "execution_count": 19,
   "metadata": {},
   "outputs": [
    {
     "name": "stdout",
     "output_type": "stream",
     "text": [
      "the value of i is 8\n",
      "the value of i is 10\n",
      "the value of i is 14\n"
     ]
    }
   ],
   "source": [
    "a=[1,2,3,4,5,6,7,8,9,10,14,15]\n",
    "for i in a:\n",
    "    if (i%2)==0:\n",
    "        if i>7:\n",
    "            print(\"the value of i is\",i)"
   ]
  },
  {
   "cell_type": "code",
   "execution_count": null,
   "metadata": {},
   "outputs": [],
   "source": []
  }
 ],
 "metadata": {
  "kernelspec": {
   "display_name": "Python 3",
   "language": "python",
   "name": "python3"
  },
  "language_info": {
   "codemirror_mode": {
    "name": "ipython",
    "version": 3
   },
   "file_extension": ".py",
   "mimetype": "text/x-python",
   "name": "python",
   "nbconvert_exporter": "python",
   "pygments_lexer": "ipython3",
   "version": "3.8.3"
  }
 },
 "nbformat": 4,
 "nbformat_minor": 4
}
