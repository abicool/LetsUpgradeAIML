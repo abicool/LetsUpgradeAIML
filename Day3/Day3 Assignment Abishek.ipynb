{
 "cells": [
  {
   "cell_type": "markdown",
   "metadata": {},
   "source": [
    "# Write a program to subtract two complex numbers in Python."
   ]
  },
  {
   "cell_type": "code",
   "execution_count": 2,
   "metadata": {},
   "outputs": [
    {
     "name": "stdout",
     "output_type": "stream",
     "text": [
      "(-4-4j)\n"
     ]
    }
   ],
   "source": [
    "a = 2+3j\n",
    "b = 6+7j\n",
    "c = a-b\n",
    "print(c)"
   ]
  },
  {
   "cell_type": "markdown",
   "metadata": {},
   "source": [
    "# Write a program to find the fourth root of a number."
   ]
  },
  {
   "cell_type": "code",
   "execution_count": 21,
   "metadata": {},
   "outputs": [
    {
     "name": "stdout",
     "output_type": "stream",
     "text": [
      "The fourth root of 256 is 4\n"
     ]
    }
   ],
   "source": [
    "import math\n",
    "\n",
    "number=256\n",
    "i=0\n",
    "for i in range(number):\n",
    "    x = i\n",
    "    tempval = x * x * x * x\n",
    "    if tempval > number:\n",
    "        break\n",
    "    elif tempval == number:\n",
    "        print(\"The fourth root of\",number,\"is\",x)\n",
    "        check = 1\n",
    "        break\n",
    "    else:\n",
    "        check = 0\n",
    "if check != 1:\n",
    "    print(number,\"does not have a fourth root\")"
   ]
  },
  {
   "cell_type": "markdown",
   "metadata": {},
   "source": [
    "# Write a program to swap two numbers in Python with the help of a temporary variable.\n"
   ]
  },
  {
   "cell_type": "code",
   "execution_count": 22,
   "metadata": {},
   "outputs": [
    {
     "name": "stdout",
     "output_type": "stream",
     "text": [
      "10 20\n",
      "20 10\n"
     ]
    }
   ],
   "source": [
    "a= 10\n",
    "b = 20\n",
    "print(a,b)\n",
    "temp = a\n",
    "a = b\n",
    "b = temp\n",
    "print(a,b)"
   ]
  },
  {
   "cell_type": "markdown",
   "metadata": {},
   "source": [
    "# Write a program to swap two numbers in Python without using a temporary variable."
   ]
  },
  {
   "cell_type": "code",
   "execution_count": 24,
   "metadata": {},
   "outputs": [
    {
     "name": "stdout",
     "output_type": "stream",
     "text": [
      "10 20\n",
      "20 10\n"
     ]
    }
   ],
   "source": [
    "x = 10\n",
    "y = 20\n",
    "print(x,y); \n",
    "x = x + y \n",
    "y = x - y \n",
    "x = x - y \n",
    "print(x,y); \n",
    "\n"
   ]
  },
  {
   "cell_type": "markdown",
   "metadata": {},
   "source": [
    "# Write a program to convert Fahrenheit to kelvin and celsius both."
   ]
  },
  {
   "cell_type": "code",
   "execution_count": 28,
   "metadata": {},
   "outputs": [
    {
     "name": "stdout",
     "output_type": "stream",
     "text": [
      "Enter temperature in celsius: 33\n",
      "Enter temperature in fahrenheit: 99\n",
      "33.00 Celsius is: 91.40 Fahrenheit\n",
      "99.00 Fahrenheit is: 37.22 Celsius\n"
     ]
    }
   ],
   "source": [
    "a = float(input(\"Enter temperature in celsius: \"))\n",
    "b = (a * 9/5) + 32\n",
    "\n",
    "y = float(input(\"Enter temperature in fahrenheit: \"))\n",
    "x = (y - 32) * 5/9\n",
    "\n",
    "print('%.2f Celsius is: %0.2f Fahrenheit' %(a, b))\n",
    "print('%.2f Fahrenheit is: %0.2f Celsius' %(y, x))"
   ]
  },
  {
   "cell_type": "markdown",
   "metadata": {},
   "source": [
    "# Write a program to demonstrate all the available data types in Python. Hint: Use type() function."
   ]
  },
  {
   "cell_type": "code",
   "execution_count": 31,
   "metadata": {},
   "outputs": [
    {
     "name": "stdout",
     "output_type": "stream",
     "text": [
      "Hello World is a <class 'str'>\n",
      "20 is a <class 'int'>\n",
      "20.5 is a <class 'float'>\n",
      "1j is a <class 'complex'>\n",
      "['apple', 'banana', 'cherry'] is a <class 'list'>\n",
      "('apple', 'banana', 'cherry') is a <class 'tuple'>\n",
      "range(0, 6) is a <class 'range'>\n",
      "{'name': 'John', 'age': 36} is a <class 'dict'>\n",
      "{'banana', 'apple', 'cherry'} is a <class 'set'>\n",
      "frozenset({'banana', 'apple', 'cherry'}) is a <class 'frozenset'>\n",
      "True is a <class 'bool'>\n",
      "b'Hello' is a <class 'bytes'>\n",
      "bytearray(b'\\x00\\x00\\x00\\x00\\x00') is a <class 'bytearray'>\n",
      "<memory at 0x01291B68> is a <class 'memoryview'>\n"
     ]
    }
   ],
   "source": [
    "a = \"Hello World\" \n",
    "b = 20 \n",
    "c = 20.5\n",
    "d = 1j\n",
    "e = [\"apple\", \"banana\", \"cherry\"] \n",
    "f = (\"apple\", \"banana\", \"cherry\") \n",
    "g= range(6)\n",
    "h = {\"name\" : \"John\", \"age\" : 36}\n",
    "i = {\"apple\", \"banana\", \"cherry\"} \n",
    "j = frozenset({\"apple\", \"banana\", \"cherry\"})\n",
    "k = True\n",
    "l = b\"Hello\" \n",
    "m = bytearray(5) \n",
    "n = memoryview(bytes(5))\n",
    "\n",
    "print(a,\"is a\",type(a))\n",
    "print(b,\"is a\",type(b))\n",
    "print(c,\"is a\",type(c))\n",
    "print(d,\"is a\",type(d))\n",
    "print(e,\"is a\",type(e))\n",
    "print(f,\"is a\",type(f))\n",
    "print(g,\"is a\",type(g))\n",
    "print(h,\"is a\",type(h))\n",
    "print(i,\"is a\",type(i))\n",
    "print(j,\"is a\",type(j))\n",
    "print(k,\"is a\",type(k))\n",
    "print(l,\"is a\",type(l))\n",
    "print(m,\"is a\",type(m))\n",
    "print(n,\"is a\",type(n))\n"
   ]
  },
  {
   "cell_type": "markdown",
   "metadata": {},
   "source": [
    "# Create a Markdown cell in Jupyter and list the steps discussed in the session by Dr. Darshan Ingle sir to create a Github profile and upload the Githubs Assignment link."
   ]
  },
  {
   "cell_type": "markdown",
   "metadata": {},
   "source": [
    "create a github public repository and create seperate folders for each day.\n",
    "Do assignments in seperate notebooks and upload the .ipynb file to Github folder and share the link in the google form."
   ]
  }
 ],
 "metadata": {
  "kernelspec": {
   "display_name": "Python 3",
   "language": "python",
   "name": "python3"
  },
  "language_info": {
   "codemirror_mode": {
    "name": "ipython",
    "version": 3
   },
   "file_extension": ".py",
   "mimetype": "text/x-python",
   "name": "python",
   "nbconvert_exporter": "python",
   "pygments_lexer": "ipython3",
   "version": "3.8.3"
  }
 },
 "nbformat": 4,
 "nbformat_minor": 4
}
